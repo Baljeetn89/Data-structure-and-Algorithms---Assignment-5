{
 "cells": [
  {
   "cell_type": "markdown",
   "id": "5e54b864",
   "metadata": {
    "jp-MarkdownHeadingCollapsed": true
   },
   "source": [
    "## Assignment 5\n",
    "\n",
    "The lecture notes provided a Python implementation for a node and the foundational structure of a stack. Please proceed to implement the push and pop methods for the stack:\n",
    "\n",
    "- The push method should accept a value as parameter and should add a new node at the top of the stack with the given value. The pointers and size should be updated accordingly. This method does not return anything.\n",
    "\n",
    "- The pop method should remove the top node from the stack **and** should return its value. The pointers and size should be updated accordingly. This method does not accept any parameters. If the stack is empty, the method should return `None`.\n",
    "\n",
    "\n",
    "To facilitate an understanding of the contents of the data stack, I have provided the method `__repr__` which in turn invokes the method `__iter__` below. The `__repr__()` method returns (doesn't print) a string like this:\n",
    "\n",
    "<Stack (3 elements): ['C', 'B', 'A']>\n",
    "\n",
    "Notice that it informs of the number of elements and prints a list with the content of the nodes."
   ]
  },
  {
   "cell_type": "code",
   "execution_count": null,
   "id": "b81e5952",
   "metadata": {},
   "outputs": [],
   "source": [
    "def __repr__(self):\n",
    "    elements = [node.data for node in self]\n",
    "    return f'<Stack ({self._size} elements): {elements}>'\n",
    "\n",
    "def __iter__(self):\n",
    "    current = self._top\n",
    "    while current:\n",
    "        yield current\n",
    "        current = current.next"
   ]
  },
  {
   "cell_type": "code",
   "execution_count": 1,
   "id": "3bc1d08b-cc7b-4705-91c7-2e05c88a668d",
   "metadata": {},
   "outputs": [
    {
     "name": "stdout",
     "output_type": "stream",
     "text": [
      "<Stack (3 elements): ['C', 'B', 'A']>\n",
      "C\n",
      "<Stack (2 elements): ['B', 'A']>\n",
      "B\n",
      "<Stack (1 elements): ['A']>\n",
      "A\n",
      "<Stack (0 elements): []>\n",
      "None\n"
     ]
    }
   ],
   "source": [
    "class Node:\n",
    "    def __init__(self, value=None):\n",
    "        # Initialize the node with a given value, and set next pointer to None\n",
    "        self.value = value\n",
    "        self.next = None\n",
    "\n",
    "class Stack:\n",
    "    def __init__(self):\n",
    "        # Initialize the stack with the top as None (empty) and size as 0\n",
    "        self.top = None\n",
    "        self.size = 0\n",
    "\n",
    "    def push(self, value):\n",
    "        \"\"\"\n",
    "        Adds a new node with the given value at the top of the stack.\n",
    "        \"\"\"\n",
    "        new_node = Node(value)  # Create a new node with the value\n",
    "        new_node.next = self.top  # Set the next pointer of the new node to the current top node\n",
    "        self.top = new_node  # Make the new node the top of the stack\n",
    "        self.size += 1  # Increase the size of the stack\n",
    "\n",
    "    def pop(self):\n",
    "        \"\"\"\n",
    "        Removes and returns the value of the top node in the stack.\n",
    "        If the stack is empty, returns None.\n",
    "        \"\"\"\n",
    "        if self.size == 0:\n",
    "            return None  # Return None if the stack is empty\n",
    "        \n",
    "        popped_value = self.top.value  # Get the value of the top node\n",
    "        self.top = self.top.next  # Set the top pointer to the next node in the stack\n",
    "        self.size -= 1  # Decrease the size of the stack\n",
    "        return popped_value  # Return the value of the popped node\n",
    "\n",
    "    def __repr__(self):\n",
    "        \"\"\"\n",
    "        Returns a string representation of the stack's contents.\n",
    "        \"\"\"\n",
    "        elements = []  # List to store values in the stack\n",
    "        current_node = self.top  # Start from the top node\n",
    "        \n",
    "        while current_node:\n",
    "            elements.append(current_node.value)  # Add each node's value to the list\n",
    "            current_node = current_node.next  # Move to the next node\n",
    "        \n",
    "        return f\"<Stack ({self.size} elements): {elements}>\"\n",
    "\n",
    "# Example usage:\n",
    "stack = Stack()  # Create an empty stack\n",
    "\n",
    "# Push values onto the stack\n",
    "stack.push('A')\n",
    "stack.push('B')\n",
    "stack.push('C')\n",
    "\n",
    "# Print the stack's representation\n",
    "print(stack)  # Output: <Stack (3 elements): ['C', 'B', 'A']>\n",
    "\n",
    "# Pop elements and display the stack\n",
    "print(stack.pop())  # Output: 'C'\n",
    "print(stack)  # Output: <Stack (2 elements): ['B', 'A']>\n",
    "\n",
    "print(stack.pop())  # Output: 'B'\n",
    "print(stack)  # Output: <Stack (1 elements): ['A']>\n",
    "\n",
    "print(stack.pop())  # Output: 'A'\n",
    "print(stack)  # Output: <Stack (0 elements): []>\n",
    "\n",
    "# Try popping from an empty stack\n",
    "print(stack.pop())  # Output: None (stack is empty)\n"
   ]
  },
  {
   "cell_type": "code",
   "execution_count": null,
   "id": "b07f3079-1b14-4518-85e5-d384603b3eb4",
   "metadata": {},
   "outputs": [],
   "source": []
  }
 ],
 "metadata": {
  "kernelspec": {
   "display_name": "Python 3 (ipykernel)",
   "language": "python",
   "name": "python3"
  },
  "language_info": {
   "codemirror_mode": {
    "name": "ipython",
    "version": 3
   },
   "file_extension": ".py",
   "mimetype": "text/x-python",
   "name": "python",
   "nbconvert_exporter": "python",
   "pygments_lexer": "ipython3",
   "version": "3.12.5"
  }
 },
 "nbformat": 4,
 "nbformat_minor": 5
}
